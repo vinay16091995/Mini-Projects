{
 "cells": [
  {
   "cell_type": "markdown",
   "metadata": {},
   "source": [
    "# 1"
   ]
  },
  {
   "cell_type": "code",
   "execution_count": 2,
   "metadata": {},
   "outputs": [
    {
     "data": {
      "text/plain": [
       "{'Shipment id': ['Sender',\n",
       "  'Receiver',\n",
       "  'Start date',\n",
       "  'Delivery Date',\n",
       "  'Sender_location',\n",
       "  'Receiver_location',\n",
       "  'Delivery status',\n",
       "  'Shipping cost'],\n",
       " 101: [1, 3, '14-03-2020', '25-03-2020', 'Area1', 'Area6', 'Delivered', 198],\n",
       " 102: [4, 1, '18-06-2020', '09-07-2020', 'Area2', 'Area4', 'Delivered', 275],\n",
       " 103: [2, 3, '01-12-2020', None, 'Area5', 'Area1', 'In-Transit', 200],\n",
       " 104: [1, 5, '23-06-2020', '25-06-2020', 'Area1', 'Area4', 'Delivered', 314],\n",
       " 105: [3, 4, '29-08-2020', '10-09-2020', 'Area5', 'Area3', 'Delivered', 275],\n",
       " 106: [5, 2, '28-06-2020', None, 'Area3', 'Area1', 'In-Transit', 270]}"
      ]
     },
     "execution_count": 2,
     "metadata": {},
     "output_type": "execute_result"
    }
   ],
   "source": [
    "shipments_info={'Shipment id':['Sender','Receiver','Start date','Delivery Date','Sender_location','Receiver_location','Delivery status','Shipping cost'],101:[1,3,'14-03-2020','25-03-2020','Area1','Area6','Delivered',198],102:[4,1,'18-06-2020','09-07-2020','Area2','Area4','Delivered',275],103:[2,3,'01-12-2020',None,'Area5','Area1','In-Transit',200],104:[1,5,'23-06-2020','25-06-2020','Area1','Area4','Delivered',314],105:[3,4,'29-08-2020','10-09-2020','Area5','Area3','Delivered',275],106:[5,2,'28-06-2020',None,'Area3','Area1','In-Transit',270]}\n",
    "\n",
    "shipments_info"
   ]
  },
  {
   "cell_type": "markdown",
   "metadata": {},
   "source": [
    "# 2"
   ]
  },
  {
   "cell_type": "code",
   "execution_count": 3,
   "metadata": {},
   "outputs": [
    {
     "data": {
      "text/plain": [
       "{'Client_id': [1, 2, 3, 4, 5],\n",
       " 'Client Name': ['Phillip', 'Omega III', 'Ramya', 'Romesh', 'John']}"
      ]
     },
     "execution_count": 3,
     "metadata": {},
     "output_type": "execute_result"
    }
   ],
   "source": [
    "clients_info={'Client_id':[i for i in range(1,6)],'Client Name':['Phillip','Omega III','Ramya','Romesh','John']}\n",
    "\n",
    "clients_info1=clients_info.copy()\n",
    "\n",
    "clients_info"
   ]
  },
  {
   "cell_type": "markdown",
   "metadata": {},
   "source": [
    "# 3"
   ]
  },
  {
   "cell_type": "code",
   "execution_count": 4,
   "metadata": {},
   "outputs": [
    {
     "data": {
      "text/plain": [
       "{'Shipment id': ['Sender',\n",
       "  'Receiver',\n",
       "  'Start date',\n",
       "  'Delivery Date',\n",
       "  'Sender_location',\n",
       "  'Receiver_location',\n",
       "  'Delivery status',\n",
       "  'Shipping cost'],\n",
       " 101: ['Phillip',\n",
       "  'Ramya',\n",
       "  '14-03-2020',\n",
       "  '25-03-2020',\n",
       "  'Area1',\n",
       "  'Area6',\n",
       "  'Delivered',\n",
       "  198],\n",
       " 102: ['Romesh',\n",
       "  'Phillip',\n",
       "  '18-06-2020',\n",
       "  '09-07-2020',\n",
       "  'Area2',\n",
       "  'Area4',\n",
       "  'Delivered',\n",
       "  275],\n",
       " 103: ['Omega III',\n",
       "  'Ramya',\n",
       "  '01-12-2020',\n",
       "  None,\n",
       "  'Area5',\n",
       "  'Area1',\n",
       "  'In-Transit',\n",
       "  200],\n",
       " 104: ['Phillip',\n",
       "  'John',\n",
       "  '23-06-2020',\n",
       "  '25-06-2020',\n",
       "  'Area1',\n",
       "  'Area4',\n",
       "  'Delivered',\n",
       "  314],\n",
       " 105: ['Ramya',\n",
       "  'Romesh',\n",
       "  '29-08-2020',\n",
       "  '10-09-2020',\n",
       "  'Area5',\n",
       "  'Area3',\n",
       "  'Delivered',\n",
       "  275],\n",
       " 106: ['John',\n",
       "  'Omega III',\n",
       "  '28-06-2020',\n",
       "  None,\n",
       "  'Area3',\n",
       "  'Area1',\n",
       "  'In-Transit',\n",
       "  270]}"
      ]
     },
     "execution_count": 4,
     "metadata": {},
     "output_type": "execute_result"
    }
   ],
   "source": [
    "d1={i:clients_info['Client Name'][i-1] for i in clients_info['Client_id']}\n",
    "\n",
    "for i in range(101,107):\n",
    "    shipments_info[i][0:2]=[d1[i] for i in shipments_info[i][0:2]]\n",
    "\n",
    "shipments_info"
   ]
  },
  {
   "cell_type": "markdown",
   "metadata": {},
   "source": [
    "# 4"
   ]
  },
  {
   "cell_type": "code",
   "execution_count": 5,
   "metadata": {},
   "outputs": [
    {
     "name": "stdout",
     "output_type": "stream",
     "text": [
      "{'Shipment id': ['Sender', 'Receiver', 'Start date', 'Delivery Date', 'Sender_location', 'Receiver_location', 'Delivery status', 'Shipping cost'], 101: ['Phillip', 'Ramya', '14-03-2020', '25-03-2020', 'Area1', 'Area6', 'Delivered', 198], 104: ['Phillip', 'John', '23-06-2020', '25-06-2020', 'Area1', 'Area4', 'Delivered', 314]}\n"
     ]
    }
   ],
   "source": [
    "a={}\n",
    "for i in shipments_info.keys():\n",
    "    if i=='Shipment id':\n",
    "        a[i]=shipments_info[i]\n",
    "    if shipments_info[i][0]=='Phillip':\n",
    "        a[i]=shipments_info[i]\n",
    "print(a)\n",
    "        "
   ]
  },
  {
   "cell_type": "markdown",
   "metadata": {},
   "source": [
    "# 5"
   ]
  },
  {
   "cell_type": "code",
   "execution_count": 6,
   "metadata": {},
   "outputs": [
    {
     "name": "stdout",
     "output_type": "stream",
     "text": [
      "{'Shipment id': ['Sender', 'Receiver', 'Start date', 'Delivery Date', 'Sender_location', 'Receiver_location', 'Delivery status', 'Shipping cost'], 101: ['Phillip', 'Ramya', '14-03-2020', '25-03-2020', 'Area1', 'Area6', 'Delivered', 198], 103: ['Omega III', 'Ramya', '01-12-2020', None, 'Area5', 'Area1', 'In-Transit', 200]}\n"
     ]
    }
   ],
   "source": [
    "b={}\n",
    "for i in shipments_info.keys():\n",
    "    if i=='Shipment id':\n",
    "        b[i]=shipments_info[i]\n",
    "    if shipments_info[i][1]=='Ramya':\n",
    "        b[i]=shipments_info[i]\n",
    "print(b)"
   ]
  },
  {
   "cell_type": "markdown",
   "metadata": {},
   "source": [
    "# 6"
   ]
  },
  {
   "cell_type": "code",
   "execution_count": 7,
   "metadata": {},
   "outputs": [
    {
     "name": "stdout",
     "output_type": "stream",
     "text": [
      "{'Shipment id': ['Sender', 'Receiver', 'Start date', 'Delivery Date', 'Sender_location', 'Receiver_location', 'Delivery status', 'Shipping cost'], 103: ['Omega III', 'Ramya', '01-12-2020', None, 'Area5', 'Area1', 'In-Transit', 200], 106: ['John', 'Omega III', '28-06-2020', None, 'Area3', 'Area1', 'In-Transit', 270]}\n"
     ]
    }
   ],
   "source": [
    "c={}\n",
    "for i in shipments_info.keys():\n",
    "    if i=='Shipment id':\n",
    "        c[i]=shipments_info[i]\n",
    "    if shipments_info[i][-2]=='In-Transit':\n",
    "        c[i]=shipments_info[i]\n",
    "print(c)"
   ]
  },
  {
   "cell_type": "markdown",
   "metadata": {},
   "source": [
    "# 7"
   ]
  },
  {
   "cell_type": "code",
   "execution_count": 8,
   "metadata": {},
   "outputs": [
    {
     "name": "stdout",
     "output_type": "stream",
     "text": [
      "{'Shipment id': ['Sender', 'Receiver', 'Start date', 'Delivery Date', 'Sender_location', 'Receiver_location', 'Delivery status', 'Shipping cost'], 104: ['Phillip', 'John', '23-06-2020', '25-06-2020', 'Area1', 'Area4', 'Delivered', 314]}\n"
     ]
    }
   ],
   "source": [
    "from datetime import datetime\n",
    "\n",
    "D={}\n",
    "for i in shipments_info.keys():\n",
    "    if i=='Shipment id':\n",
    "        D[i]=shipments_info[i]\n",
    "    else:\n",
    "        if shipments_info[i][-2]!='In-Transit':\n",
    "            d=(datetime.strptime(shipments_info[i][3], '%d-%m-%Y')-datetime.strptime(shipments_info[i][2], '%d-%m-%Y')).days\n",
    "            if d<=7:\n",
    "                D[i]=shipments_info[i]\n",
    "print(D)"
   ]
  },
  {
   "cell_type": "markdown",
   "metadata": {},
   "source": [
    "# 8"
   ]
  },
  {
   "cell_type": "code",
   "execution_count": 9,
   "metadata": {},
   "outputs": [
    {
     "name": "stdout",
     "output_type": "stream",
     "text": [
      "{'Shipment id': ['Sender', 'Receiver', 'Start date', 'Delivery Date', 'Sender_location', 'Receiver_location', 'Delivery status', 'Shipping cost'], 102: ['Romesh', 'Phillip', '18-06-2020', '09-07-2020', 'Area2', 'Area4', 'Delivered', 275], 103: ['Omega III', 'Ramya', '01-12-2020', None, 'Area5', 'Area1', 'In-Transit', 200], 106: ['John', 'Omega III', '28-06-2020', None, 'Area3', 'Area1', 'In-Transit', 270]}\n"
     ]
    }
   ],
   "source": [
    "E={}\n",
    "for i in shipments_info.keys():\n",
    "    if i=='Shipment id':\n",
    "        E[i]=shipments_info[i]\n",
    "    elif shipments_info[i][-2]=='In-Transit':\n",
    "        E[i]=shipments_info[i]\n",
    "    else:\n",
    "        d=(datetime.strptime(shipments_info[i][3], '%d-%m-%Y')-datetime.strptime(shipments_info[i][2], '%d-%m-%Y')).days\n",
    "        if d>15:\n",
    "                E[i]=shipments_info[i]\n",
    "print(E)"
   ]
  },
  {
   "cell_type": "markdown",
   "metadata": {},
   "source": [
    "# 9"
   ]
  },
  {
   "cell_type": "code",
   "execution_count": 2,
   "metadata": {},
   "outputs": [
    {
     "name": "stdout",
     "output_type": "stream",
     "text": [
      "Shipment ID: 101 \n",
      "Sender Location 1 \n",
      "Receiver Location 3 \n",
      "All possible routes : [[1, 2, 3], [1, 2, 4, 3]]\n",
      "----------------------------------------\n",
      "Shipment ID: 102 \n",
      "Sender Location 4 \n",
      "Receiver Location 1 \n",
      "All possible routes : [[4, 2, 1], [4, 3, 2, 1]]\n",
      "----------------------------------------\n",
      "Shipment ID: 103 \n",
      "Sender Location 2 \n",
      "Receiver Location 3 \n",
      "All possible routes : [[2, 3], [2, 4, 3]]\n",
      "----------------------------------------\n",
      "Shipment ID: 104 \n",
      "Sender Location 1 \n",
      "Receiver Location 5 \n",
      "All possible routes : [[1, 2, 3, 4, 5], [1, 2, 4, 5]]\n",
      "----------------------------------------\n",
      "Shipment ID: 105 \n",
      "Sender Location 3 \n",
      "Receiver Location 4 \n",
      "All possible routes : [[3, 2, 4], [3, 4]]\n",
      "----------------------------------------\n",
      "Shipment ID: 106 \n",
      "Sender Location 5 \n",
      "Receiver Location 2 \n",
      "All possible routes : [[5, 4, 2], [5, 4, 3, 2]]\n",
      "----------------------------------------\n"
     ]
    }
   ],
   "source": [
    "\n",
    "# creating matrix for the graph\n",
    "\n",
    "M=[[0,1,0,0,0,1],[1,0,1,1,0,0],[0,1,0,1,0,0],[0,1,1,0,1,0],[0,0,0,1,0,0],[1,0,0,0,0,0]]\n",
    "\n",
    "# intermediate variables used for converting a matrix to graph\n",
    "\n",
    "a=[]\n",
    "P=[] \n",
    "k1=[] \n",
    "P1=[]\n",
    "\n",
    "\n",
    "# converting matrix to graph\n",
    "\n",
    "for i in range(0,len(M)):\n",
    "    for j in range(0,len(M[0])):\n",
    "        if M[i][j]==1:\n",
    "            a.append(j)\n",
    "    P.append(a)\n",
    "    a=[]\n",
    "\n",
    "for i in range(0,len(P)):\n",
    "    for j in range(0,len(P[i])):\n",
    "        k=P[i][j]+1\n",
    "        k1.append(k)\n",
    "    P1.append(k1)\n",
    "    k1=[]\n",
    "    \n",
    "graph={}\n",
    "for i in range(1,len(P1)+1):\n",
    "    graph[i]=P1[i-1]\n",
    "\n",
    "# function to find all paths\n",
    "\n",
    "def find_all_routes(graph,start,end,path=[]):\n",
    "    path=path+[start]\n",
    "    if start==end:\n",
    "        return [path]\n",
    "    if start not in graph.keys():\n",
    "        return []\n",
    "    paths=[]\n",
    "    for node in graph[start]:\n",
    "        if node not in path:\n",
    "            newpaths=find_all_routes(graph,node,end,path)\n",
    "            for newpath in newpaths:\n",
    "                paths.append(newpath)\n",
    "    return paths\n",
    "\n",
    "# creation of shipment table\n",
    "\n",
    "shipments_info={'Shipment id':['Sender','Receiver','Start date','Delivery Date','Sender_location','Receiver_location','Delivery status','Shipping cost'],101:[1,3,'14-03-2020','25-03-2020','Area1','Area6','Delivered',198],102:[4,1,'18-06-2020','09-07-2020','Area2','Area4','Delivered',275],103:[2,3,'01-12-2020',None,'Area5','Area1','In-Transit',200],104:[1,5,'23-06-2020','25-06-2020','Area1','Area4','Delivered',314],105:[3,4,'29-08-2020','10-09-2020','Area5','Area3','Delivered',275],106:[5,2,'28-06-2020',None,'Area3','Area1','In-Transit',270]}\n",
    "\n",
    "# loop to iterate through shipment table for accessing sender and location number  \n",
    "\n",
    "for i in range(101,107):\n",
    "    all_paths=find_all_routes(graph,shipments_info[i][0],shipments_info[i][1])\n",
    "    print('Shipment ID:', i,'\\nSender Location', shipments_info[i][0],'\\nReceiver Location', shipments_info[i][1],'\\nAll possible routes :',all_paths)\n",
    "    print('----------------------------------------')\n",
    "    "
   ]
  },
  {
   "cell_type": "code",
   "execution_count": 3,
   "metadata": {},
   "outputs": [
    {
     "data": {
      "text/plain": [
       "{1: [2, 6], 2: [1, 3, 4], 3: [2, 4], 4: [2, 3, 5], 5: [4], 6: [1]}"
      ]
     },
     "execution_count": 3,
     "metadata": {},
     "output_type": "execute_result"
    }
   ],
   "source": [
    "graph"
   ]
  },
  {
   "cell_type": "code",
   "execution_count": null,
   "metadata": {},
   "outputs": [],
   "source": []
  }
 ],
 "metadata": {
  "kernelspec": {
   "display_name": "Python 3",
   "language": "python",
   "name": "python3"
  },
  "language_info": {
   "codemirror_mode": {
    "name": "ipython",
    "version": 3
   },
   "file_extension": ".py",
   "mimetype": "text/x-python",
   "name": "python",
   "nbconvert_exporter": "python",
   "pygments_lexer": "ipython3",
   "version": "3.8.5"
  }
 },
 "nbformat": 4,
 "nbformat_minor": 4
}
